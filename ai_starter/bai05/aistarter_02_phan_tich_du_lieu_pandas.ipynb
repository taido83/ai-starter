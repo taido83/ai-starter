{
 "cells": [
  {
   "cell_type": "markdown",
   "metadata": {},
   "source": [
    "# AI-Starter 02: Phân tích dữ liệu với Pandas"
   ]
  },
  {
   "cell_type": "markdown",
   "metadata": {},
   "source": [
    "## Series"
   ]
  },
  {
   "cell_type": "code",
   "execution_count": 4,
   "metadata": {},
   "outputs": [
    {
     "name": "stdout",
     "output_type": "stream",
     "text": [
      "0    98\n",
      "1    44\n",
      "2    87\n",
      "3    47\n",
      "dtype: int64\n",
      "RangeIndex(start=0, stop=4, step=1)\n",
      "[98 44 87 47]\n"
     ]
    }
   ],
   "source": [
    "# Tạo dữ liệu với Series\n",
    "import pandas as pd\n",
    "import numpy as np\n",
    "\n",
    "s = pd.Series(np.random.randint(100, size=4));\n",
    "print(s)\n",
    "print(s.index)\n",
    "print(s.values)"
   ]
  },
  {
   "cell_type": "code",
   "execution_count": 5,
   "metadata": {},
   "outputs": [
    {
     "name": "stdout",
     "output_type": "stream",
     "text": [
      "Ke toan    310\n",
      "KT         360\n",
      "CNTT       580\n",
      "Co khi     340\n",
      "dtype: int64\n",
      "Index(['Ke toan', 'KT', 'CNTT', 'Co khi'], dtype='object')\n",
      "[310 360 580 340]\n"
     ]
    }
   ],
   "source": [
    "# Tạo dữ liệu với Series\n",
    "import pandas as pd\n",
    "import numpy as np\n",
    "\n",
    "chi_so = [\"Ke toan\", \"KT\", \"CNTT\", \"Co khi\"]\n",
    "gia_tri= [310, 360, 580, 340]\n",
    "s = pd.Series(gia_tri, index=chi_so);\n",
    "print(s)\n",
    "print(s.index)\n",
    "print(s.values)"
   ]
  },
  {
   "cell_type": "code",
   "execution_count": 7,
   "metadata": {},
   "outputs": [
    {
     "name": "stdout",
     "output_type": "stream",
     "text": [
      "KT        310\n",
      "KT        360\n",
      "CNTT      580\n",
      "Co khi    340\n",
      "dtype: int64\n",
      "Index(['KT', 'KT', 'CNTT', 'Co khi'], dtype='object')\n",
      "[310 360 580 340]\n"
     ]
    }
   ],
   "source": [
    "# Tạo dữ liệu với Series\n",
    "import pandas as pd\n",
    "import numpy as np\n",
    "\n",
    "chi_so = [\"KT\", \"KT\", \"CNTT\", \"Co khi\"] # Trùng nhau\n",
    "gia_tri= [310, 360, 580, 340]\n",
    "s = pd.Series(gia_tri, index=chi_so);\n",
    "print(s)\n",
    "print(s.index)\n",
    "print(s.values)"
   ]
  },
  {
   "cell_type": "code",
   "execution_count": 8,
   "metadata": {},
   "outputs": [
    {
     "name": "stdout",
     "output_type": "stream",
     "text": [
      "340\n",
      "KT    310\n",
      "KT    360\n",
      "dtype: int64\n",
      "580\n"
     ]
    }
   ],
   "source": [
    "# Truy xuất dữ liệu thông qua chỉ số\n",
    "import pandas as pd\n",
    "import numpy as np\n",
    "\n",
    "chi_so = [\"KT\", \"KT\", \"CNTT\", \"Co khi\"] # Trùng nhau\n",
    "gia_tri= [310, 360, 580, 340]\n",
    "s = pd.Series(gia_tri, index=chi_so);\n",
    "print(s['Co khi'])\n",
    "print(s['KT'])\n",
    "print(s.CNTT)"
   ]
  },
  {
   "cell_type": "code",
   "execution_count": 16,
   "metadata": {},
   "outputs": [
    {
     "name": "stdout",
     "output_type": "stream",
     "text": [
      "Ke toan    310\n",
      "KT         360\n",
      "CNTT       580\n",
      "Co khi     340\n",
      "dtype: int64 \n",
      "---\n",
      "CNTT    100\n",
      "PM      100\n",
      "dtype: int64 \n",
      "---\n",
      "CNTT       680.0\n",
      "Co khi       NaN\n",
      "KT           NaN\n",
      "Ke toan      NaN\n",
      "PM           NaN\n",
      "dtype: float64\n",
      "\n"
     ]
    }
   ],
   "source": [
    "# Phép toán trên series\n",
    "import pandas as pd\n",
    "import numpy as np\n",
    "\n",
    "chi_so = [\"Ke toan\", \"KT\", \"CNTT\", \"Co khi\"] # Trùng nhau\n",
    "gia_tri= [310, 360, 580, 340]\n",
    "\n",
    "# chỉ số giống nhau thì tính gộp, ngược lại NaN\n",
    "s = pd.Series(gia_tri, index=chi_so);\n",
    "p = pd.Series([100, 100], ['CNTT', 'PM']);\n",
    "y = s + p;\n",
    "print(f'{s} \\n---\\n{p} \\n---\\n{y}\\n')"
   ]
  },
  {
   "cell_type": "code",
   "execution_count": null,
   "metadata": {},
   "outputs": [
    {
     "name": "stdout",
     "output_type": "stream",
     "text": [
      "Ke toan    1310\n",
      "KT         1360\n",
      "CNTT        580\n",
      "Co  khi    1340\n",
      "dtype: int64\n"
     ]
    }
   ],
   "source": [
    "# apply() một hàm khác trên series\n",
    "import pandas as pd\n",
    "import numpy as np\n",
    "\n",
    "def Tang(x):\n",
    "    return x if x > 500 else x + 1000\n",
    "\n",
    "chi_so = [\"Ke toan\", \"KT\", \"CNTT\", \"Co  khi\"]\n",
    "gia_tri = [310, 360, 580, 340]\n",
    "S = pd.Series(gia_tri, chi_so)\n",
    "# áp dụng Tang trên S (không thay đổi S)\n",
    "print(S.apply(Tang))"
   ]
  },
  {
   "cell_type": "markdown",
   "metadata": {},
   "source": [
    "## DataFrame"
   ]
  },
  {
   "cell_type": "code",
   "execution_count": 3,
   "metadata": {},
   "outputs": [
    {
     "name": "stdout",
     "output_type": "stream",
     "text": [
      "   Year  Population    Total  Violent\n",
      "0  1960   179323175  3384200   288460\n",
      "1  1961   182992000  3488000   289390\n",
      "2  1962   185771000  3752200   301510\n",
      "3  1963   188483000  4109500   316970\n",
      "4  1964   191141000  4564600   364220\n"
     ]
    }
   ],
   "source": [
    "# Tạo dataframe từ list\n",
    "crimes_rates = {  \n",
    "    \"Year\":[1960,1961,1962,1963,1964],\n",
    "    \"Population\":[179323175,182992000,185771000,188483000,  191141000],  \n",
    "    \"Total\":[3384200,3488000,3752200,4109500,4564600],  \n",
    "    \"Violent\":[288460,289390,301510,316970,364220]\n",
    "}\n",
    "crimes_dataframe = pd.DataFrame(crimes_rates)  \n",
    "print(crimes_dataframe)"
   ]
  },
  {
   "cell_type": "code",
   "execution_count": 4,
   "metadata": {},
   "outputs": [
    {
     "name": "stdout",
     "output_type": "stream",
     "text": [
      "                MIT  Stanford   DHTL\n",
      "NumOfStudents  5000      4500  15000\n",
      "ranking           1         2    200\n",
      "int64\n"
     ]
    }
   ],
   "source": [
    "# Tạo dataframe từ list các dictionary\n",
    "data\t= [\n",
    "    {'MIT': 5000, 'Stanford': 4500, \"DHTL\":15000},\n",
    "    {'MIT': 1, 'Stanford': 2, \"DHTL\":200}\n",
    "]\n",
    "df\t= pd.DataFrame(data, index=['NumOfStudents', \"ranking\"])\n",
    "print(df)  \n",
    "print(df.DHTL.dtype)\n"
   ]
  },
  {
   "cell_type": "code",
   "execution_count": 6,
   "metadata": {},
   "outputs": [
    {
     "name": "stdout",
     "output_type": "stream",
     "text": [
      "    one   two\n",
      "1   1.0  1000\n",
      "2  23.0  2400\n",
      "3  45.0  1132\n",
      "4   NaN  3434\n"
     ]
    }
   ],
   "source": [
    "# Tạo dataframe từ dictionary series\n",
    "data = {\n",
    "    \"one\": pd.Series(\n",
    "        [1,23,45], \n",
    "        index = [1,2,3]),  \n",
    "    \"two\":\tpd.Series(\n",
    "        [1000,2400,1132,3434],\n",
    "        index\t=  [1,2,3,4])\n",
    "}\n",
    "df = pd.DataFrame(data)  \n",
    "print(df)\n"
   ]
  },
  {
   "cell_type": "code",
   "execution_count": 26,
   "metadata": {},
   "outputs": [],
   "source": [
    "# Đọc dữ liệu từ file .csv\n",
    "content = \"\"\"\n",
    ",country,population,area,capital\n",
    "BR,Brazil,200,8515767,Brasilia\n",
    "RU,Russia,144,17098242,Moscow \n",
    "IN,India,1252,3287590,New Delhi\n",
    "CH,China,1357,9596961,Beijing\n",
    "SA,South Africa,55,1221037,Pretoria\n",
    "\"\"\"\n",
    "with open(\"brics.csv\", \"w\") as file:\n",
    "    file.write(content)"
   ]
  },
  {
   "cell_type": "code",
   "execution_count": 27,
   "metadata": {},
   "outputs": [
    {
     "name": "stdout",
     "output_type": "stream",
     "text": [
      "  Unnamed: 0       country  population      area    capital\n",
      "0         BR        Brazil         200   8515767   Brasilia\n",
      "1         RU        Russia         144  17098242    Moscow \n",
      "2         IN         India        1252   3287590  New Delhi\n",
      "3         CH         China        1357   9596961    Beijing\n",
      "4         SA  South Africa          55   1221037   Pretoria\n"
     ]
    }
   ],
   "source": [
    "# Đọc dữ liệu từ file .csv\n",
    "import pandas as pd\n",
    "\n",
    "d = pd.read_csv(\"brics.csv\")  \n",
    "print(d)\n"
   ]
  },
  {
   "cell_type": "code",
   "execution_count": 28,
   "metadata": {},
   "outputs": [
    {
     "name": "stdout",
     "output_type": "stream",
     "text": [
      "         country  population      area    capital\n",
      "BR        Brazil         200   8515767   Brasilia\n",
      "RU        Russia         144  17098242    Moscow \n",
      "IN         India        1252   3287590  New Delhi\n",
      "CH         China        1357   9596961    Beijing\n",
      "SA  South Africa          55   1221037   Pretoria\n"
     ]
    }
   ],
   "source": [
    "# Đọc dữ liệu từ file .csv\n",
    "import pandas as pd\n",
    "\n",
    "# đọc dữ liệu và quy định cột 0 dùng làm chỉ số dòng  \n",
    "d = pd.read_csv(\"brics.csv\", index_col = 0)  \n",
    "print(d)"
   ]
  },
  {
   "cell_type": "code",
   "execution_count": 29,
   "metadata": {},
   "outputs": [
    {
     "name": "stdout",
     "output_type": "stream",
     "text": [
      "BR          Brazil\n",
      "RU          Russia\n",
      "IN           India\n",
      "CH           China\n",
      "SA    South Africa\n",
      "Name: country, dtype: object\n",
      "---\n",
      "BR          Brazil\n",
      "RU          Russia\n",
      "IN           India\n",
      "CH           China\n",
      "SA    South Africa\n",
      "Name: country, dtype: object\n"
     ]
    }
   ],
   "source": [
    "# Truy cập theo từng cột\n",
    "import pandas as pd\n",
    "\n",
    "brics = pd.read_csv(\"brics.csv\", index_col = 0)  \n",
    "\n",
    "print(brics['country'])\n",
    "print('---')\n",
    "print(brics.country)"
   ]
  },
  {
   "cell_type": "code",
   "execution_count": 30,
   "metadata": {},
   "outputs": [
    {
     "name": "stdout",
     "output_type": "stream",
     "text": [
      "         country  population      area    capital  on_earth\n",
      "BR        Brazil         200   8515767   Brasilia      True\n",
      "RU        Russia         144  17098242    Moscow       True\n",
      "IN         India        1252   3287590  New Delhi      True\n",
      "CH         China        1357   9596961    Beijing      True\n",
      "SA  South Africa          55   1221037   Pretoria      True\n"
     ]
    }
   ],
   "source": [
    "# thêm một cột\n",
    "brics['on_earth'] = [True, True, True, True, True]\n",
    "print(brics)"
   ]
  },
  {
   "cell_type": "code",
   "execution_count": 31,
   "metadata": {},
   "outputs": [
    {
     "name": "stdout",
     "output_type": "stream",
     "text": [
      "         country  population      area    capital  on_earth      density\n",
      "BR        Brazil         200   8515767   Brasilia      True   234.858469\n",
      "RU        Russia         144  17098242    Moscow       True    84.219185\n",
      "IN         India        1252   3287590  New Delhi      True  3808.260762\n",
      "CH         China        1357   9596961    Beijing      True  1413.989283\n",
      "SA  South Africa          55   1221037   Pretoria      True   450.436801\n"
     ]
    }
   ],
   "source": [
    "# thêm một cột dùng công thức\n",
    "brics['density'] = brics['population'] / brics['area'] * 10000000\n",
    "print(brics)"
   ]
  },
  {
   "cell_type": "code",
   "execution_count": 36,
   "metadata": {},
   "outputs": [
    {
     "name": "stdout",
     "output_type": "stream",
     "text": [
      "Beijing\n",
      "Beijing\n",
      "Beijing\n"
     ]
    }
   ],
   "source": [
    "# Truy cập vào từng ô trên dataframe\n",
    "print(brics.loc[\"CH\",\"capital\"])\n",
    "print(brics[\"capital\"].loc['CH'])\n",
    "print(brics.loc[\"CH\"][\"capital\"])"
   ]
  },
  {
   "cell_type": "code",
   "execution_count": 46,
   "metadata": {},
   "outputs": [
    {
     "name": "stdout",
     "output_type": "stream",
     "text": [
      "         country  population      area    capital\n",
      "BR        Brazil         200   8515767   Brasilia\n",
      "RU        Russia         144  17098242    Moscow \n",
      "IN         India        1252   3287590  New Delhi\n",
      "CH         China        1357   9596961    Beijing\n",
      "SA  South Africa          55   1221037   Pretoria\n",
      "---\n",
      "         country    capital\n",
      "BR        Brazil   Brasilia\n",
      "RU        Russia    Moscow \n",
      "IN         India  New Delhi\n",
      "CH         China    Beijing\n",
      "SA  South Africa   Pretoria\n",
      "         country    capital\n",
      "BR        Brazil   Brasilia\n",
      "RU        Russia    Moscow \n",
      "IN         India  New Delhi\n",
      "CH         China    Beijing\n",
      "SA  South Africa   Pretoria\n"
     ]
    }
   ],
   "source": [
    "# Xóa dòng hoặc cột bằng drop\n",
    "d = pd.read_csv(\"brics.csv\", index_col=0)\n",
    "print(d)\n",
    "print(\"---\")\n",
    "# tạo ra dataframe mới bằng cách xóa 2 cột\n",
    "print(d.drop([\"area\", \"population\"], axis=1))\n",
    "# trường hợp muốn xóa trên d, thêm tham số\tinplace=True  \n",
    "d.drop([\"area\", \"population\"], axis=1, inplace=True)  \n",
    "print(d)\n"
   ]
  },
  {
   "cell_type": "code",
   "execution_count": 44,
   "metadata": {},
   "outputs": [
    {
     "name": "stdout",
     "output_type": "stream",
     "text": [
      "         country  population      area    capital\n",
      "BR        Brazil         200   8515767   Brasilia\n",
      "RU        Russia         144  17098242    Moscow \n",
      "IN         India        1252   3287590  New Delhi\n",
      "CH         China        1357   9596961    Beijing\n",
      "SA  South Africa          55   1221037   Pretoria\n",
      "---\n",
      "3008\n",
      "---\n",
      "BR     200\n",
      "RU     344\n",
      "IN    1596\n",
      "CH    2953\n",
      "SA    3008\n",
      "Name: population, dtype: int64\n"
     ]
    }
   ],
   "source": [
    "# Tính tổng và tổng tích lũy\n",
    "d = pd.read_csv(\"brics.csv\", index_col=0)\n",
    "print(d)\n",
    "print(\"---\")\n",
    "# tính tổng của cột population, trả về tổng\n",
    "print(d.population.sum())\n",
    "print(\"---\")\n",
    "# tính tổng của cột population, trả về các tổng trong quá  trình cộng\n",
    "print(d.population.cumsum())"
   ]
  },
  {
   "cell_type": "code",
   "execution_count": 48,
   "metadata": {},
   "outputs": [
    {
     "data": {
      "image/png": "[encoded data removed]",
      "text/plain": [
       "<Figure size 640x480 with 1 Axes>"
      ]
     },
     "metadata": {},
     "output_type": "display_data"
    }
   ],
   "source": [
    "# Kết hợp giữa pandas và matplotlib\n",
    "import pandas as pd\n",
    "import matplotlib.pyplot as plt\n",
    "d = pd.read_csv(\"brics.csv\", index_col = 0)  \n",
    "d.area.plot(kind='bar')\n",
    "plt.show()"
   ]
  },
  {
   "cell_type": "markdown",
   "metadata": {},
   "source": [
    "## MultiIndex"
   ]
  },
  {
   "cell_type": "code",
   "execution_count": 172,
   "metadata": {},
   "outputs": [
    {
     "name": "stdout",
     "output_type": "stream",
     "text": [
      "[[[0.93614922 0.41521516 0.03399359 0.9002109 ]\n",
      "  [0.08614879 0.63113758 0.38629345 0.25145992]\n",
      "  [0.52902253 0.94200606 0.78604686 0.34631087]]\n",
      "\n",
      " [[0.38728    0.6068437  0.06097761 0.95838846]\n",
      "  [0.11082131 0.00726427 0.20843907 0.14278614]\n",
      "  [0.86146171 0.78037863 0.16990361 0.41489774]]]\n",
      "---\n",
      "                    0         1\n",
      "major minor                    \n",
      "0     0      0.936149  0.387280\n",
      "      1      0.415215  0.606844\n",
      "      2      0.033994  0.060978\n",
      "      3      0.900211  0.958388\n",
      "1     0      0.086149  0.110821\n",
      "      1      0.631138  0.007264\n",
      "      2      0.386293  0.208439\n",
      "      3      0.251460  0.142786\n",
      "2     0      0.529023  0.861462\n",
      "      1      0.942006  0.780379\n",
      "      2      0.786047  0.169904\n",
      "      3      0.346311  0.414898\n",
      "---\n",
      "              0         1\n",
      "minor                    \n",
      "0      0.936149  0.387280\n",
      "1      0.415215  0.606844\n",
      "2      0.033994  0.060978\n",
      "3      0.900211  0.958388\n"
     ]
    }
   ],
   "source": [
    "import pandas as pd  \n",
    "import numpy as np\n",
    "\n",
    "data = np.random.rand(2, 3, 4)  \n",
    "print(data)\n",
    "print(\"---\")\n",
    "p = pd.DataFrame(\n",
    "    {0: data[0].reshape(-1), 1: data[1].reshape(-1)}, \n",
    "    index=pd.MultiIndex.from_product([range(3), range(4)], names=['major', 'minor']))\n",
    "print(p)\n",
    "print('---')\n",
    "print(p.loc[0])"
   ]
  },
  {
   "cell_type": "code",
   "execution_count": 194,
   "metadata": {},
   "outputs": [
    {
     "name": "stdout",
     "output_type": "stream",
     "text": [
      "(2, 3, 4)\n",
      "---\n",
      "                     Open    Close\n",
      "major      minor                  \n",
      "2015-03-31 IBM     23.602  132.903\n",
      "           APPL   421.412  212.665\n",
      "           CVX    568.055  409.201\n",
      "           BHP    487.414  515.413\n",
      "2015-04-30 IBM    150.868  457.895\n",
      "           APPL   204.729  957.179\n",
      "           CVX     90.679  888.687\n",
      "           BHP    831.527  714.202\n",
      "2015-05-31 IBM    788.582  922.422\n",
      "           APPL   329.716  304.964\n",
      "           CVX     36.578  981.508\n",
      "           BHP    313.848  882.293\n",
      "---\n",
      "          Open    Close\n",
      "minor                  \n",
      "IBM     23.602  132.903\n",
      "APPL   421.412  212.665\n",
      "CVX    568.055  409.201\n",
      "BHP    487.414  515.413\n"
     ]
    }
   ],
   "source": [
    "import pandas as pd, numpy as np\n",
    "from datetime import date\n",
    "\n",
    "data = np.array([\n",
    "    [[23.602, 421.412, 568.055, 487.414], [150.868, 204.729, 90.679, 831.527], [788.582, 329.716, 36.578, 313.848]],\n",
    "    [[132.903, 212.665, 409.201, 515.413], [457.895, 957.179, 888.687, 714.202], [922.422, 304.964, 981.508, 882.293]],\n",
    "]);\n",
    "print(data.shape)\n",
    "print(\"---\")\n",
    "p = pd.DataFrame(\n",
    "    {'Open': data[0].reshape(-1), 'Close': data[1].reshape(-1)},\n",
    "    index = pd.MultiIndex.from_product([[date(2015,3,31), date(2015,4,30), date(2015,5,31)], ['IBM', 'APPL', 'CVX', 'BHP']], names=['major', 'minor'])\n",
    ")\n",
    "print(p)\n",
    "print(\"---\")\n",
    "print(p.loc[date(2015,3,31)])"
   ]
  },
  {
   "cell_type": "code",
   "execution_count": 195,
   "metadata": {},
   "outputs": [
    {
     "name": "stdout",
     "output_type": "stream",
     "text": [
      "             Yesterday Yesterday-1 Yesterday-7 Thirty day average\n",
      "Brand Metric                                                     \n",
      "Zara  Orders         -           -           -                  -\n",
      "      GMV            -           -           -                  -\n",
      "      AOV            -           -           -                  -\n",
      "LV    Orders         -           -           -                  -\n",
      "      GMV            -           -           -                  -\n",
      "      AOV            -           -           -                  -\n",
      "Roots Orders         -           -           -                  -\n",
      "      GMV            -           -           -                  -\n",
      "      AOV            -           -           -                  -\n"
     ]
    }
   ],
   "source": [
    "idx = pd.MultiIndex.from_product([['Zara', 'LV', 'Roots'],\n",
    "                                  ['Orders', 'GMV', 'AOV']],\n",
    "                                 names=['Brand', 'Metric'])\n",
    "col = ['Yesterday', 'Yesterday-1', 'Yesterday-7', 'Thirty day average']\n",
    "\n",
    "df = pd.DataFrame('-', idx, col)\n",
    "print(df)"
   ]
  },
  {
   "cell_type": "markdown",
   "metadata": {},
   "source": [
    "## Biến đổi dữ liệu"
   ]
  },
  {
   "cell_type": "code",
   "execution_count": 200,
   "metadata": {},
   "outputs": [
    {
     "name": "stdout",
     "output_type": "stream",
     "text": [
      "   Y\n",
      "X   \n",
      "A  7\n",
      "B  3\n",
      "---\n",
      "   Y\n",
      "X   \n",
      "B  3\n",
      "A  7\n"
     ]
    }
   ],
   "source": [
    "# Nhóm phần tử\n",
    "df2 = pd.DataFrame({'X' : ['B', 'B', 'A', 'A'], 'Y' : [1, 2, 3, 4]})\n",
    "print(df2.groupby(['X']).sum())\n",
    "print(\"---\")\n",
    "print(df2.groupby(['X'], sort=False).sum())"
   ]
  },
  {
   "cell_type": "code",
   "execution_count": 203,
   "metadata": {},
   "outputs": [
    {
     "name": "stdout",
     "output_type": "stream",
     "text": [
      "   X  Y\n",
      "0  A  1\n",
      "2  A  3\n",
      "---\n",
      "   X  Y\n",
      "1  B  4\n",
      "3  B  2\n"
     ]
    }
   ],
   "source": [
    "# Nhóm phần tử\n",
    "df3 = pd.DataFrame({'X' : ['A', 'B', 'A', 'B'], 'Y' :  [1, 4, 3, 2]})\n",
    "print(df3.groupby(['X']).get_group('A'))\n",
    "print(\"---\")\n",
    "print(df3.groupby(['X']).get_group('B'))\n"
   ]
  },
  {
   "cell_type": "markdown",
   "metadata": {},
   "source": [
    "## Kết Thúc"
   ]
  }
 ],
 "metadata": {
  "kernelspec": {
   "display_name": "base",
   "language": "python",
   "name": "python3"
  },
  "language_info": {
   "codemirror_mode": {
    "name": "ipython",
    "version": 3
   },
   "file_extension": ".py",
   "mimetype": "text/x-python",
   "name": "python",
   "nbconvert_exporter": "python",
   "pygments_lexer": "ipython3",
   "version": "3.11.5"
  }
 },
 "nbformat": 4,
 "nbformat_minor": 2
}
