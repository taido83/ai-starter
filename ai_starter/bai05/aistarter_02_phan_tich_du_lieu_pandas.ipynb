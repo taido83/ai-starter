{
 "cells": [
  {
   "cell_type": "markdown",
   "metadata": {},
   "source": [
    "# AI-Starter 02: Phân tích dữ liệu với Pandas"
   ]
  },
  {
   "cell_type": "code",
   "execution_count": 4,
   "metadata": {},
   "outputs": [
    {
     "name": "stdout",
     "output_type": "stream",
     "text": [
      "0    98\n",
      "1    44\n",
      "2    87\n",
      "3    47\n",
      "dtype: int64\n",
      "RangeIndex(start=0, stop=4, step=1)\n",
      "[98 44 87 47]\n"
     ]
    }
   ],
   "source": [
    "# Tạo dữ liệu với Series\n",
    "import pandas as pd\n",
    "import numpy as np\n",
    "\n",
    "s = pd.Series(np.random.randint(100, size=4));\n",
    "print(s)\n",
    "print(s.index)\n",
    "print(s.values)"
   ]
  },
  {
   "cell_type": "code",
   "execution_count": 5,
   "metadata": {},
   "outputs": [
    {
     "name": "stdout",
     "output_type": "stream",
     "text": [
      "Ke toan    310\n",
      "KT         360\n",
      "CNTT       580\n",
      "Co khi     340\n",
      "dtype: int64\n",
      "Index(['Ke toan', 'KT', 'CNTT', 'Co khi'], dtype='object')\n",
      "[310 360 580 340]\n"
     ]
    }
   ],
   "source": [
    "# Tạo dữ liệu với Series\n",
    "import pandas as pd\n",
    "import numpy as np\n",
    "\n",
    "chi_so = [\"Ke toan\", \"KT\", \"CNTT\", \"Co khi\"]\n",
    "gia_tri= [310, 360, 580, 340]\n",
    "s = pd.Series(gia_tri, index=chi_so);\n",
    "print(s)\n",
    "print(s.index)\n",
    "print(s.values)"
   ]
  },
  {
   "cell_type": "code",
   "execution_count": 7,
   "metadata": {},
   "outputs": [
    {
     "name": "stdout",
     "output_type": "stream",
     "text": [
      "KT        310\n",
      "KT        360\n",
      "CNTT      580\n",
      "Co khi    340\n",
      "dtype: int64\n",
      "Index(['KT', 'KT', 'CNTT', 'Co khi'], dtype='object')\n",
      "[310 360 580 340]\n"
     ]
    }
   ],
   "source": [
    "# Tạo dữ liệu với Series\n",
    "import pandas as pd\n",
    "import numpy as np\n",
    "\n",
    "chi_so = [\"KT\", \"KT\", \"CNTT\", \"Co khi\"] # Trùng nhau\n",
    "gia_tri= [310, 360, 580, 340]\n",
    "s = pd.Series(gia_tri, index=chi_so);\n",
    "print(s)\n",
    "print(s.index)\n",
    "print(s.values)"
   ]
  },
  {
   "cell_type": "code",
   "execution_count": 8,
   "metadata": {},
   "outputs": [
    {
     "name": "stdout",
     "output_type": "stream",
     "text": [
      "340\n",
      "KT    310\n",
      "KT    360\n",
      "dtype: int64\n",
      "580\n"
     ]
    }
   ],
   "source": [
    "# Truy xuất dữ liệu thông qua chỉ số\n",
    "import pandas as pd\n",
    "import numpy as np\n",
    "\n",
    "chi_so = [\"KT\", \"KT\", \"CNTT\", \"Co khi\"] # Trùng nhau\n",
    "gia_tri= [310, 360, 580, 340]\n",
    "s = pd.Series(gia_tri, index=chi_so);\n",
    "print(s['Co khi'])\n",
    "print(s['KT'])\n",
    "print(s.CNTT)"
   ]
  },
  {
   "cell_type": "code",
   "execution_count": 16,
   "metadata": {},
   "outputs": [
    {
     "name": "stdout",
     "output_type": "stream",
     "text": [
      "Ke toan    310\n",
      "KT         360\n",
      "CNTT       580\n",
      "Co khi     340\n",
      "dtype: int64 \n",
      "---\n",
      "CNTT    100\n",
      "PM      100\n",
      "dtype: int64 \n",
      "---\n",
      "CNTT       680.0\n",
      "Co khi       NaN\n",
      "KT           NaN\n",
      "Ke toan      NaN\n",
      "PM           NaN\n",
      "dtype: float64\n",
      "\n"
     ]
    }
   ],
   "source": [
    "# Phép toán trên series\n",
    "import pandas as pd\n",
    "import numpy as np\n",
    "\n",
    "chi_so = [\"Ke toan\", \"KT\", \"CNTT\", \"Co khi\"] # Trùng nhau\n",
    "gia_tri= [310, 360, 580, 340]\n",
    "\n",
    "# chỉ số giống nhau thì tính gộp, ngược lại NaN\n",
    "s = pd.Series(gia_tri, index=chi_so);\n",
    "p = pd.Series([100, 100], ['CNTT', 'PM']);\n",
    "y = s + p;\n",
    "print(f'{s} \\n---\\n{p} \\n---\\n{y}\\n')"
   ]
  },
  {
   "cell_type": "markdown",
   "metadata": {},
   "source": [
    "## Kết Thúc"
   ]
  }
 ],
 "metadata": {
  "kernelspec": {
   "display_name": "Python 3",
   "language": "python",
   "name": "python3"
  },
  "language_info": {
   "codemirror_mode": {
    "name": "ipython",
    "version": 3
   },
   "file_extension": ".py",
   "mimetype": "text/x-python",
   "name": "python",
   "nbconvert_exporter": "python",
   "pygments_lexer": "ipython3",
   "version": "3.12.1"
  }
 },
 "nbformat": 4,
 "nbformat_minor": 2
}
